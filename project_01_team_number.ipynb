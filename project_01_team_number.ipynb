{
  "nbformat": 4,
  "nbformat_minor": 0,
  "metadata": {
    "colab": {
      "provenance": [],
      "authorship_tag": "ABX9TyNGjxK35/Ir9HvgAkcXHkme",
      "include_colab_link": true
    },
    "kernelspec": {
      "name": "python3",
      "display_name": "Python 3"
    },
    "language_info": {
      "name": "python"
    }
  },
  "cells": [
    {
      "cell_type": "markdown",
      "metadata": {
        "id": "view-in-github",
        "colab_type": "text"
      },
      "source": [
        "<a href=\"https://colab.research.google.com/github/Virgilio65/Project-1-Implementation-of-a-perceptron-model-for-regression-classification-/blob/main/project_01_team_number.ipynb\" target=\"_parent\"><img src=\"https://colab.research.google.com/assets/colab-badge.svg\" alt=\"Open In Colab\"/></a>"
      ]
    },
    {
      "cell_type": "markdown",
      "source": [
        "# **Project 1: Implementation of a perceptron model for regression/classification**  \n",
        "\n",
        "## Universidad de Monterrey  \n",
        "\n",
        "### School of Engineering and Technologies  \n",
        "\n",
        "**Virgilio Del Bosque Luna 578255 | Ingeniería en Mecatrónica**  \n",
        "**Victor**\n",
        "**Marcelo**\n",
        "\n",
        "**Course:** Artificial Intelligence II\n",
        "\n",
        "**Lecturer:** Dr. Andrés Hernández Gutiérrez  \n",
        "**Due date:** 27 September 2023, before midnight\n",
        "\n",
        "San Pedro Garza García, Nuevo León\n",
        "\n",
        "\"Doy mi palabra de que he realizado esta actividad con integridad académica\""
      ],
      "metadata": {
        "id": "1PLoQlMLrDrk"
      }
    },
    {
      "cell_type": "markdown",
      "source": [
        "# **Learning objective**\n",
        "This project aims to provide students with a hands-on understanding of single-neuron networks\n",
        "(perceptrons) and their application in classification or regression tasks using TensorFlow. By the\n",
        "end of this project, each team will:\n",
        "\n",
        "a) fully understand the basic structure and functionality of a single-neuron network (perceptron)\n",
        "\n",
        "b) implement and apply the perceptron model to a classification OR linear regression tasks, and analyse the network’s performance and understand its limitations.\n",
        "\n",
        "# **Project Outline**\n",
        "\n",
        "This project consists of both theoretical exploration and practical implementation of a perceptron model using TensorFlow."
      ],
      "metadata": {
        "id": "xS2SX0R7qhMn"
      }
    },
    {
      "cell_type": "markdown",
      "source": [
        "# **1. Perceptron model**\n",
        "\n",
        "### **Define what a single-neuron network is, explaining its components: inputs, weights, bias, activation function, and output.**\n",
        "\n",
        "\n",
        "Una red neuronal de solo una neurona es conocida como perceptrón. El perceptrón se divide en dos.\n",
        "\n",
        "- Una sola capa:\"El perceptrón de una sola capa solo puede aprender patrones linealmente separables.\"(Banoula, 2024)\n",
        "- Multicapa:\"Los perceptrones multicapa pueden aprender sobre dos o más capas que tengan un mayor poder de procesamiento.\"(Banoula, 2024)\n",
        "\n",
        "El perceptrón, siendo la red neuronal en su forma más simple, se compone de solo una entrada con la capacidad de procesar y producir una salida. El perceptrón se compone de:\n",
        "\n",
        "- **Entradas**: Datos que se proporcionan al perceptrón\n",
        "- **Pesos**: Para cada entrada, hay un peso. Los pesos ayudan a determinar la importancia de cada entrada en la predicción final.\n",
        "- **Sesgos**: Margen que permite ajustar la salida del perceptrón.\n",
        "- **Función de activación**: Función que toma como referencia las entradas y los sesgos para producir la salida del perceptrón\n",
        "-**salida**:Resultado/predicción final del perceptrón después de la función de activación.\n",
        "\n",
        "\n",
        "\n",
        "\n",
        "### **If the perceptron model will be used for regression, explain how it can predict a continuous output value based on input features.**\n",
        "\n",
        "- Por medio de una combinación de los pesos de cada entrada. Dicha combinación se utiliza para la función de activación, donde, el resultado será un valor numérico donde es ideal para predecir valores continuos como lo son temperaturas y costos. Esto porque se toma en cuenta la combinación lineal de los pesos de cada entrada y no se es requerida una función de activación no lineal,si no, una activación lineal, esto porque se busca obtener un valor de manera continua.\n",
        "\n",
        "\n",
        "### **If the perceptron model will be used for classification, explain how it uses a decision boundary to classify inputs into two categories (binary classification).**\n",
        "\n",
        "- Al igual que la regresión se hace una combinación de los pesos con cada una de sus entradas, con la diferencia que la función de activación que se requiere es una no lineal, esto genera que la salida sea no continua, sino , discreta. Por medio de la función de activación seleccionada, se compara la salida con un valor de margen, donde si el valor de salida es mayor que dicho margen, entonces se clasifica en una categoría, y si no , entonces se clasifica en la otra categoría, donde dichas categorías son separadas en un plano.\n"
      ],
      "metadata": {
        "id": "LavefVfGsuYs"
      }
    },
    {
      "cell_type": "markdown",
      "source": [
        "# **2. Activation functions**\n",
        "\n",
        "Depending on the use case application where the single-neuron network will be applied,explore different activation functions used by the perceptron model:\n",
        "\n",
        "### **Regression: Linear activation function. Keep in mind that a perceptron model can only capture linear relationships between inputs and outputs.**\n",
        "\n",
        "La regresión es una técnica de aprendizaje supervisado que tiene como objetivo predecir valores continuos, como el valor futuro de una casa, por ejemplo. Para modelos de regresión, las funciones lineales son más comunes, aunque también se pueden usar funciones no lineales dependiendo los datos. Si usamos una función de activación lineal en un perceptrón, este sólo podrá modelar relaciones lineales entre entradas y salidas, lo cual suena bien si eso es lo que queremos lograr. La función de activación “linear” es la más básica para nuestros códigos en Python. (Rasamoelina et al., 2020)\n",
        "\n",
        "\n",
        "### **Classification: Sigmoid or Tanh.**\n",
        "\n",
        "Por otro lado, las funciones no lineales como la sigmoide, tangente hiperbólica o ReLU (Rectified Linear Unit) son utilizadas en modelos de clasificación. La función sigmoide convierte cualquier valor de entrada en un número entre 0 y 1, lo cual es útil para representar probabilidades, pero tiene el problema de que los gradientes pueden desaparecer en redes profundas, dificultando el entrenamiento. La función tangente hiperbólica (tanh), similar a la sigmoide, transforma la entrada en un valor entre -1 y 1, lo que le permite representar mejor los datos al incluir valores negativos. Aunque tiene una pendiente más pronunciada que la sigmoide, y sufre el mismo problema de desvanecimiento de gradientes en redes profundas. Ambas funciones son ideales para tareas de clasificación o cuando se desea limitar la salida a un rango específico. (Rasamoelina et al., 2020)\n"
      ],
      "metadata": {
        "id": "v8pQ49_ys3Cn"
      }
    },
    {
      "cell_type": "markdown",
      "source": [
        "# **3.Use case application**\n",
        "Discuss a real-world application where a perceptron model can be applied then use a public dataset that can be used as a use case for regression or classification.\n",
        "\n",
        "- El decidir si comer pizza o no, donde las entradas serían el tener hambre o tener dinero, mientras que el peso de cada entrada sería qué tanta hambre se tiene o si la pizza está muy cara.\n",
        "\n",
        "- Otro ejemplo similar es si ver o no una película, donde las entradas pudieran ser si se tiene energía o si se cuenta con palomitas.\n",
        "\n",
        "- Por último, si se debería o no tomar café, como entradas si el alumno se desveló haciendo un proyecto de inteligencia artificial (es broma, profesor jaja) o si aún hay tarea pendiente, donde los pesos dependen de qué tanto sueño se tenga o qué tanta tarea falte. Si la salida es 1, entonces se toma café.\n",
        "\n",
        "\n",
        "- La pagina que utilizaremos para el desarrollo de este proyecto será Kaggle, una pagina con diversidad de bases de datos, esto porque se nos hizo más sencillo y la interfaz de la misma página se nos hizo más amigable.\n",
        "\n",
        "- Dentro de la base de datos de Kaggle seleccionamos la base de datos “x” porque “x”.\n"
      ],
      "metadata": {
        "id": "AzZoXtWMtMX2"
      }
    },
    {
      "cell_type": "markdown",
      "source": [
        "# **Practical Implementation using Tensorflow in Python**"
      ],
      "metadata": {
        "id": "wIpveSrLtYRO"
      }
    },
    {
      "cell_type": "markdown",
      "source": [
        "#**1. Dataset**\n",
        "\n",
        "Describe the downloaded dataset by providing details about the predictor variables and responses. Feel free to use either pandas or csv to load your data file."
      ],
      "metadata": {
        "id": "bB85eOJeocOe"
      }
    },
    {
      "cell_type": "code",
      "execution_count": null,
      "metadata": {
        "id": "VKAWJpieoNHZ"
      },
      "outputs": [],
      "source": [
        "import pandas as pd #Permite la manipulación y análisis de datos.\n",
        "import plotly.express as px #Creación de gráficos interactivos.\n",
        "import seaborn as sns #Genera gráficos estadísticos.\n",
        "import matplotlib.pyplot as plt #Permite generar gráficos.\n",
        "import numpy as np #Permite la creación de vectores, matrices multidimensionales y funciones matemáticas de alto nivel.\n",
        "import tensorflow as tf #Facilita la creación de modelos de aprendizaje automático.\n",
        "from sklearn.model_selection import train_test_split #División de datos en entrenamiento y prueba.\n",
        "from sklearn.preprocessing import StandardScaler #Estándariza los datos eliminando la media y escalando los datos de forma que su varianza sea igual a 1.\n",
        "#Normalización de datos.\n",
        "from sklearn.metrics import ConfusionMatrixDisplay #Permite visualizar la matriz de confusión\n",
        "from sklearn.metrics import confusion_matrix #Permite el uso de la matriz de confusión.\n",
        "\n",
        "#Importación de base de datos\n",
        "\n"
      ]
    },
    {
      "cell_type": "markdown",
      "source": [
        "# **2. Exploratory data analysis**\n",
        "Perform a exploratory data analysis to visualise/print some samples, images, etc, that are\n",
        "included in your dataset.\n"
      ],
      "metadata": {
        "id": "eSbekHhLpMpR"
      }
    },
    {
      "cell_type": "code",
      "source": [],
      "metadata": {
        "id": "O3s9hTQlpMEg"
      },
      "execution_count": null,
      "outputs": []
    },
    {
      "cell_type": "markdown",
      "source": [
        "# **3. Data preparation**\n",
        "If needed, perform a data cleansing step, this is, identify and correct errors, inconsistencies,\n",
        "inaccuracies, and missing information/values in the dataset, e.g., empty or nan data.\n"
      ],
      "metadata": {
        "id": "DFQXCGNupMgG"
      }
    },
    {
      "cell_type": "code",
      "source": [],
      "metadata": {
        "id": "KT4Y36DGpdVy"
      },
      "execution_count": null,
      "outputs": []
    },
    {
      "cell_type": "markdown",
      "source": [
        "# **4. Model design and development**\n",
        "• Design your perceptron model using TensorFlow. Specify the activation function based on your use case application (regression or classification).\n",
        "\n",
        "• Train your model\n",
        "\n",
        "– Use the appropriate loss function, mse for regression, or cross-entropy loss for classification.\n",
        "\n",
        "– Specify the optimiser, e.g., sgd, adam, RMSprop, Adagrad, adamax, etc.\n",
        "\n",
        "– Select the appropriate values for the different hyperparameters such as the batch size, epochs, validation split, learning rate, etc.\n",
        "\n",
        "• Assess the training process using the learning curves.\n",
        "\n",
        "– accuracy and validation accuracy, and loss and validation loss for classification.\n",
        "\n",
        "– mse for regression.\n",
        "\n",
        "• Perform predictions using the trained model applied to the test data set. Discuss the\n",
        "outcomes.\n",
        "\n",
        "• If your use case application refers to classification, compute the confusion matrix and\n",
        "\n",
        "the corresponding performance metrics:\n",
        "– Accuracy\n",
        "\n",
        "– Precision\n",
        "\n",
        "– Recall\n",
        "\n",
        "– Specificity\n",
        "\n",
        "– F1-score\n",
        "\n",
        "• Save the model. Make sure you use a path relative to the project directory.#"
      ],
      "metadata": {
        "id": "HV34e67ApfvS"
      }
    },
    {
      "cell_type": "code",
      "source": [],
      "metadata": {
        "id": "QWBnLR3jqL3c"
      },
      "execution_count": null,
      "outputs": []
    },
    {
      "cell_type": "markdown",
      "source": [
        "# **5.Discussions and Conclusions**\n",
        "1. Discuss about the limitations of a single-neuron network in complex tasks.\n",
        "2. Was the perceptron model able to capture the relationship between inputs and outputs in\n",
        "your use case application?\n",
        "3. Was the perceptron model able to learn faster for larger values of the learning rate?\n",
        "4. Was it necessary to normalise/scale the predictor variables? why?\n",
        "5. What strategies did you follow to tune the training hyperparameters?\n",
        "6. Did the learning process always converge? if not, what was the reason why it failed to do so?\n",
        "7. What improvement can be adopted to solve the use case application more efficiently and\n",
        "robustly? e.g., using a multi-layer network, why?\n",
        "8. Provide personal conclusions about what you have achieved in this project.\n",
        "9. Add references."
      ],
      "metadata": {
        "id": "xeH5RxA3p-uv"
      }
    },
    {
      "cell_type": "markdown",
      "source": [
        "# **Referencias**\n",
        "\n",
        "Referencias (con la base de datos):\n",
        "Brownlee, J. (2020, August 5). Perceptron algorithm for classification in Python. MachineLearningMastery.com. https://machinelearningmastery.com/perceptron-algorithm-for-classification-in-python/\n",
        "\n",
        "Ciberseg. (2021, November 16). Perceptron, qué es y cómo se usa en Machine Learning. Ciberseguridad. https://ciberseguridad.com/guias/nuevas-tecnologias/machine-learning/perceptron/\n",
        "\n",
        "¿Qué es un perceptrón? - Conceptos básicos de las redes neuronales. (n.d.). ICHI.PRO. https://ichi.pro/es/que-es-un-perceptron-conceptos-basicos-de-las-redes-neuronales-216397265290640.\n",
        "\n",
        "(2) Modelo de regresión lineal basado en perceptrones | LinkedIn. (n.d.). https://www.linkedin.com/pulse/perceptron-based-linear-regression-model-hemant-thapa-dpg3e/\n",
        "\n",
        "Rasamoelina, A. D., Adjailia, F., & Sincak, P. (2020). A Review of Activation Function for Artificial Neural Network. IEEE. https://doi.org/10.1109/sami48414.2020.9108717\n",
        "\n",
        "Banoula, M. (2024, August 19). What is Perceptron: A Beginners Guide for Perceptron. Simplilearn.com. https://www.simplilearn.com/tutorials/deep-learning-tutorial/perceptron\n",
        "\n",
        "\n"
      ],
      "metadata": {
        "id": "byJx-pbXqNqb"
      }
    }
  ]
}